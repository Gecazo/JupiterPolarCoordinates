{
  "nbformat": 4,
  "nbformat_minor": 0,
  "metadata": {
    "colab": {
      "name": "Untitled1.ipynb",
      "private_outputs": true,
      "provenance": [],
      "toc_visible": true,
      "authorship_tag": "ABX9TyOefRLY+fcmGJ/DNqdqwLbV",
      "include_colab_link": true
    },
    "kernelspec": {
      "name": "python3",
      "display_name": "Python 3"
    },
    "language_info": {
      "name": "python"
    }
  },
  "cells": [
    {
      "cell_type": "markdown",
      "metadata": {
        "id": "view-in-github",
        "colab_type": "text"
      },
      "source": [
        "<a href=\"https://colab.research.google.com/github/Gecazo/JupiterPolarCoordinates/blob/main/main.ipynb\" target=\"_parent\"><img src=\"https://colab.research.google.com/assets/colab-badge.svg\" alt=\"Open In Colab\"/></a>"
      ]
    },
    {
      "cell_type": "code",
      "metadata": {
        "id": "DrFjqBYq2lNx"
      },
      "source": [
        "import matplotlib.pyplot as plt\n",
        "import numpy as np\n",
        "import pandas as pd\n",
        "import math\n",
        "import cmath\n"
      ],
      "execution_count": null,
      "outputs": []
    },
    {
      "cell_type": "code",
      "metadata": {
        "id": "dytC46BZ2_2b"
      },
      "source": [
        "def pol2cart(rho, phi):\n",
        "    x = rho * math.cos(math.radians(phi))\n",
        "    y = rho * math.sin(math.radians(phi))\n",
        "    return(x, y)"
      ],
      "execution_count": null,
      "outputs": []
    },
    {
      "cell_type": "code",
      "metadata": {
        "id": "G0sNa6_s4aB8"
      },
      "source": [
        "def calc_coordinates():\n",
        "  coordinates_from_file = open('/content/pomiar_1.txt', 'r')\n",
        "  for coordinate_from_file in coordinates_from_file:\n",
        "    # print(coordinate_from_file)\n",
        "    coordinate = coordinate_from_file.split()\n",
        "    rho = float(coordinate[1].replace(\",\", \".\"))\n",
        "    phi = float(coordinate[0] )\n",
        "    # print(pol2cart(rho, phi))\n",
        "    # plt.scatter(pol2cart(rho,phi))\n",
        "\n",
        "    fig = plt.figure()\n",
        "    ax1 = fig.add_subplot(231, projection='polar')\n",
        "    ax1.plot(pol2cart(rho, phi))\n",
        "    ax1.grid(True)"
      ],
      "execution_count": null,
      "outputs": []
    },
    {
      "cell_type": "code",
      "metadata": {
        "id": "Eojr1vMb5eYT"
      },
      "source": [
        "calc_coordinates()"
      ],
      "execution_count": null,
      "outputs": []
    }
  ]
}